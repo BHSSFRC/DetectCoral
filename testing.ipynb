{
 "cells": [
  {
   "cell_type": "markdown",
   "metadata": {},
   "source": [
    "# WPILib ML Testing Notebook\n",
    "\n",
    "If you want to se how well your model works, you can try with the code below. It will use your model to run inference on one of our provided videos.\n",
    "\n",
    "The code below will take roughly an hour to finish running, and will output an annotated video to a bucket. We understand `estimator.fit` is not the ideal operation for inference, but at this moment in time it is the only known way to label a video."
   ]
  },
  {
   "cell_type": "code",
   "execution_count": 1,
   "metadata": {},
   "outputs": [
    {
     "name": "stdout",
     "output_type": "stream",
     "text": [
      "2020-04-24 21:26:51 Starting - Starting the training job...\n",
      "2020-04-24 21:26:52 Starting - Launching requested ML instances......\n",
      "2020-04-24 21:28:04 Starting - Preparing the instances for training...\n",
      "2020-04-24 21:28:52 Downloading - Downloading input data\n",
      "2020-04-24 21:28:52 Training - Downloading the training image......\n",
      "2020-04-24 21:29:49 Training - Training image download completed. Training in progress..\u001b[34mStarting annotation of video. This will take a while. Average FPS: ~7\u001b[0m\n",
      "\u001b[34mINFO: Initialized TensorFlow Lite runtime.\u001b[0m\n",
      "\u001b[34mCompleted 0 frames. FPS: 6.721091705645852\u001b[0m\n",
      "\u001b[34mCompleted 1000 frames. FPS: 8.539953047915152\u001b[0m\n",
      "\u001b[34mCompleted 2000 frames. FPS: 8.620091949203923\u001b[0m\n",
      "\u001b[34mCompleted 3000 frames. FPS: 8.599731406017735\u001b[0m\n",
      "\u001b[34mCompleted 4000 frames. FPS: 8.581380123084982\u001b[0m\n",
      "\u001b[34mCompleted 5000 frames. FPS: 8.476235320745872\u001b[0m\n",
      "\u001b[34mCompleted 6000 frames. FPS: 8.524644273313537\u001b[0m\n",
      "\u001b[34mCompleted 7000 frames. FPS: 8.509114073509036\u001b[0m\n",
      "\u001b[34mCompleted 8000 frames. FPS: 8.521976939096866\u001b[0m\n",
      "\u001b[34mCompleted 9000 frames. FPS: 8.511773360526822\u001b[0m\n",
      "\u001b[34mDone.\u001b[0m\n",
      "\n",
      "2020-04-24 21:48:47 Uploading - Uploading generated training model\n",
      "2020-04-24 21:49:13 Completed - Training job completed\n",
      "Training seconds: 1227\n",
      "Billable seconds: 1227\n"
     ]
    }
   ],
   "source": [
    "from sagemaker.estimator import Estimator\n",
    "from sagemaker import get_execution_role\n",
    "\n",
    "\n",
    "role = get_execution_role()\n",
    "\n",
    "instance_type = 'ml.m5.xlarge'\n",
    "algorithm_name = 'wpi-test'\n",
    "\n",
    "\n",
    "ecr_image = \"249838237784.dkr.ecr.us-east-1.amazonaws.com/{}:latest\".format(algorithm_name)\n",
    "\n",
    "# The estimator object, using our notebook, training instance, the ECR image, and the specified training steps\n",
    "estimator = Estimator(role=role,\n",
    "                      train_instance_count=1,\n",
    "                      train_instance_type=instance_type,\n",
    "                      image_name=ecr_image,\n",
    "                      hyperparameters=dict(),\n",
    "                      train_max_run=43200)\n",
    "\n",
    "# Change this value to the path of your video stored with S3\n",
    "model = \"s3://sagemaker-us-east-1-118451457254/wpi-cpu-2020-04-21-21-34-47-759/output/model.tar.gz\"\n",
    "# Change this, if you want, to the path of a video you'd rather annotate than the provided one.\n",
    "video = \"s3://rsn-wpilib-video-to-label/Kevin-stitched-video.mp4\"\n",
    "\n",
    "# Annotates `video` video by running your model. Annotated video will be outputted to S3.\n",
    "estimator.fit({\"model\": model,\n",
    "               \"video\":video})"
   ]
  },
  {
   "cell_type": "code",
   "execution_count": null,
   "metadata": {},
   "outputs": [],
   "source": []
  }
 ],
 "metadata": {
  "kernelspec": {
   "display_name": "conda_amazonei_tensorflow_p36",
   "language": "python",
   "name": "conda_amazonei_tensorflow_p36"
  },
  "language_info": {
   "codemirror_mode": {
    "name": "ipython",
    "version": 3
   },
   "file_extension": ".py",
   "mimetype": "text/x-python",
   "name": "python",
   "nbconvert_exporter": "python",
   "pygments_lexer": "ipython3",
   "version": "3.6.6"
  },
  "pycharm": {
   "stem_cell": {
    "cell_type": "raw",
    "metadata": {
     "collapsed": false
    },
    "source": []
   }
  }
 },
 "nbformat": 4,
 "nbformat_minor": 4
}
